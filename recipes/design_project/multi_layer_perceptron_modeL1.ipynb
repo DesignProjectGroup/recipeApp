{
 "cells": [
  {
   "cell_type": "code",
   "execution_count": 1,
   "metadata": {},
   "outputs": [],
   "source": [
    "#import required libraries\n",
    "import numpy as np \n",
    "import pandas as pd\n",
    "import matplotlib.pyplot as plt\n",
    "# %matplotlib inline \n",
    "import seaborn as sns"
   ]
  },
  {
   "cell_type": "code",
   "execution_count": 2,
   "metadata": {},
   "outputs": [],
   "source": [
    "from sklearn.neural_network import MLPClassifier\n",
    "from sklearn.preprocessing import MinMaxScaler"
   ]
  },
  {
   "cell_type": "code",
   "execution_count": 3,
   "metadata": {},
   "outputs": [
    {
     "data": {
      "text/html": [
       "<div>\n",
       "<style scoped>\n",
       "    .dataframe tbody tr th:only-of-type {\n",
       "        vertical-align: middle;\n",
       "    }\n",
       "\n",
       "    .dataframe tbody tr th {\n",
       "        vertical-align: top;\n",
       "    }\n",
       "\n",
       "    .dataframe thead th {\n",
       "        text-align: right;\n",
       "    }\n",
       "</style>\n",
       "<table border=\"1\" class=\"dataframe\">\n",
       "  <thead>\n",
       "    <tr style=\"text-align: right;\">\n",
       "      <th></th>\n",
       "      <th>recipe_name</th>\n",
       "      <th>number_of_ingerdients</th>\n",
       "      <th>number_of_preparation_words</th>\n",
       "      <th>cooking_time</th>\n",
       "      <th>ingredients</th>\n",
       "      <th>preparation:</th>\n",
       "      <th>label</th>\n",
       "    </tr>\n",
       "  </thead>\n",
       "  <tbody>\n",
       "    <tr>\n",
       "      <th>0</th>\n",
       "      <td>Hasanpaşa köftesi tarifi</td>\n",
       "      <td>16</td>\n",
       "      <td>150</td>\n",
       "      <td>70</td>\n",
       "      <td>['500 gram kıyma', '1 soğan', '1 yumurta', '3 ...</td>\n",
       "      <td>Püreyi yapmakla başlayın, patateslerin kabukla...</td>\n",
       "      <td>hard</td>\n",
       "    </tr>\n",
       "    <tr>\n",
       "      <th>1</th>\n",
       "      <td>Kuymak tarifi</td>\n",
       "      <td>5</td>\n",
       "      <td>69</td>\n",
       "      <td>30</td>\n",
       "      <td>['2 yemek kaşığı mısır unu', '2 yemek kaşığı t...</td>\n",
       "      <td>Tavaya tereyağını alın ve orta ateşte yakmadan...</td>\n",
       "      <td>easy</td>\n",
       "    </tr>\n",
       "    <tr>\n",
       "      <th>2</th>\n",
       "      <td>Tavuklu İspanyol salatası tarifi</td>\n",
       "      <td>7</td>\n",
       "      <td>50</td>\n",
       "      <td>30</td>\n",
       "      <td>['1 adet tavuk göğüs eti', '10 adet cherry dom...</td>\n",
       "      <td>Yeşillikleri yıkayıp süzün. Tavuk göğsünü july...</td>\n",
       "      <td>hard</td>\n",
       "    </tr>\n",
       "    <tr>\n",
       "      <th>3</th>\n",
       "      <td>Parmak bonfile tarifi</td>\n",
       "      <td>8</td>\n",
       "      <td>71</td>\n",
       "      <td>45</td>\n",
       "      <td>['3 adet bonfile', '1 tatlı kaşığı tereyağı', ...</td>\n",
       "      <td>Ispanakları ayıklayın, yıkayın ve kaynayan suy...</td>\n",
       "      <td>hard</td>\n",
       "    </tr>\n",
       "    <tr>\n",
       "      <th>4</th>\n",
       "      <td>Şuale tarifi</td>\n",
       "      <td>6</td>\n",
       "      <td>52</td>\n",
       "      <td>45</td>\n",
       "      <td>['1 su bardağı su', '100 gram tereyağı', '1 ye...</td>\n",
       "      <td>Su, tereyağı, toz şeker ve tuzu bir tencereye ...</td>\n",
       "      <td>hard</td>\n",
       "    </tr>\n",
       "  </tbody>\n",
       "</table>\n",
       "</div>"
      ],
      "text/plain": [
       "                        recipe_name  number_of_ingerdients  \\\n",
       "0          Hasanpaşa köftesi tarifi                     16   \n",
       "1                     Kuymak tarifi                      5   \n",
       "2  Tavuklu İspanyol salatası tarifi                      7   \n",
       "3             Parmak bonfile tarifi                      8   \n",
       "4                      Şuale tarifi                      6   \n",
       "\n",
       "   number_of_preparation_words  cooking_time  \\\n",
       "0                          150            70   \n",
       "1                           69            30   \n",
       "2                           50            30   \n",
       "3                           71            45   \n",
       "4                           52            45   \n",
       "\n",
       "                                         ingredients  \\\n",
       "0  ['500 gram kıyma', '1 soğan', '1 yumurta', '3 ...   \n",
       "1  ['2 yemek kaşığı mısır unu', '2 yemek kaşığı t...   \n",
       "2  ['1 adet tavuk göğüs eti', '10 adet cherry dom...   \n",
       "3  ['3 adet bonfile', '1 tatlı kaşığı tereyağı', ...   \n",
       "4  ['1 su bardağı su', '100 gram tereyağı', '1 ye...   \n",
       "\n",
       "                                        preparation: label  \n",
       "0  Püreyi yapmakla başlayın, patateslerin kabukla...  hard  \n",
       "1  Tavaya tereyağını alın ve orta ateşte yakmadan...  easy  \n",
       "2  Yeşillikleri yıkayıp süzün. Tavuk göğsünü july...  hard  \n",
       "3  Ispanakları ayıklayın, yıkayın ve kaynayan suy...  hard  \n",
       "4  Su, tereyağı, toz şeker ve tuzu bir tencereye ...  hard  "
      ]
     },
     "execution_count": 3,
     "metadata": {},
     "output_type": "execute_result"
    }
   ],
   "source": [
    "# impoting the dataset\n",
    "data = pd.read_csv('labeled_datasetFinal.csv')\n",
    "data.head()"
   ]
  },
  {
   "cell_type": "code",
   "execution_count": 4,
   "metadata": {},
   "outputs": [],
   "source": [
    "#split data\n",
    "X= data.iloc[:,1:4]\n",
    "y=  data.iloc[:,6:7]\n",
    "from sklearn.model_selection import train_test_split\n",
    "x_train,x_test, y_train, y_test= train_test_split(X,y,test_size =0.2,random_state=5)\n"
   ]
  },
  {
   "cell_type": "code",
   "execution_count": 5,
   "metadata": {},
   "outputs": [
    {
     "name": "stderr",
     "output_type": "stream",
     "text": [
      "/home/momen/anaconda3/lib/python3.6/site-packages/sklearn/preprocessing/label.py:219: DataConversionWarning: A column-vector y was passed when a 1d array was expected. Please change the shape of y to (n_samples, ), for example using ravel().\n",
      "  y = column_or_1d(y, warn=True)\n",
      "/home/momen/anaconda3/lib/python3.6/site-packages/sklearn/preprocessing/label.py:252: DataConversionWarning: A column-vector y was passed when a 1d array was expected. Please change the shape of y to (n_samples, ), for example using ravel().\n",
      "  y = column_or_1d(y, warn=True)\n",
      "/home/momen/anaconda3/lib/python3.6/site-packages/sklearn/preprocessing/label.py:252: DataConversionWarning: A column-vector y was passed when a 1d array was expected. Please change the shape of y to (n_samples, ), for example using ravel().\n",
      "  y = column_or_1d(y, warn=True)\n"
     ]
    }
   ],
   "source": [
    "# Use sklearn utility to convert label strings to numbered index\n",
    "from sklearn.preprocessing import LabelEncoder\n",
    "encoder = LabelEncoder()\n",
    "encoder.fit(y_train)\n",
    "y_train = encoder.transform(y_train)\n",
    "y_test = encoder.transform(y_test)"
   ]
  },
  {
   "cell_type": "code",
   "execution_count": 6,
   "metadata": {},
   "outputs": [
    {
     "name": "stdout",
     "output_type": "stream",
     "text": [
      "[[0]\n",
      " [1]]\n"
     ]
    }
   ],
   "source": [
    "from sklearn.preprocessing import LabelBinarizer\n",
    "encoder = LabelBinarizer()\n",
    "transfomed_label = encoder.fit_transform([\"easy\",\"hard\"])\n",
    "print(transfomed_label)"
   ]
  },
  {
   "cell_type": "code",
   "execution_count": 7,
   "metadata": {},
   "outputs": [
    {
     "name": "stderr",
     "output_type": "stream",
     "text": [
      "Using TensorFlow backend.\n"
     ]
    }
   ],
   "source": [
    "#let's start creating the model\n",
    "import keras\n",
    "import sklearn.model_selection\n",
    "from keras.models import Sequential \n",
    "from keras.layers import Dense\n",
    "import sys\n"
   ]
  },
  {
   "cell_type": "code",
   "execution_count": 8,
   "metadata": {},
   "outputs": [
    {
     "name": "stdout",
     "output_type": "stream",
     "text": [
      "3782/3782 [==============================] - 0s 43us/step\n",
      "acc: 79.88%\n"
     ]
    }
   ],
   "source": [
    "#Define model\n",
    "model = keras.models.Sequential()\n",
    "def create_model(model):\n",
    "    model.add(Dense( units=10, kernel_initializer='uniform', activation='relu',input_dim = 3))\n",
    "    #second layer.\n",
    "    model.add(Dense( units=10, kernel_initializer='uniform', activation='relu'))\n",
    "    model.add(Dense( units=5, kernel_initializer='uniform', activation='relu'))\n",
    "    # add the output layer    \n",
    "    model.add(Dense( units=1, kernel_initializer='uniform', activation='sigmoid'))\n",
    "    # Compile model\n",
    "\n",
    "    model.compile(loss='binary_crossentropy', optimizer='adam', metrics=['accuracy'])\n",
    "    model.fit(x_train, y_train, epochs =100, batch_size =5,verbose=0)\n",
    "    scores = model.evaluate(x_train, y_train)\n",
    "    print(\"%s: %.2f%%\" % (model.metrics_names[1], scores[1]*100))\n",
    "    return model\n",
    "model=create_model(model)\n"
   ]
  },
  {
   "cell_type": "code",
   "execution_count": 9,
   "metadata": {},
   "outputs": [
    {
     "data": {
      "text/html": [
       "<div>\n",
       "<style scoped>\n",
       "    .dataframe tbody tr th:only-of-type {\n",
       "        vertical-align: middle;\n",
       "    }\n",
       "\n",
       "    .dataframe tbody tr th {\n",
       "        vertical-align: top;\n",
       "    }\n",
       "\n",
       "    .dataframe thead th {\n",
       "        text-align: right;\n",
       "    }\n",
       "</style>\n",
       "<table border=\"1\" class=\"dataframe\">\n",
       "  <thead>\n",
       "    <tr style=\"text-align: right;\">\n",
       "      <th></th>\n",
       "      <th>number_of_ingerdients</th>\n",
       "      <th>number_of_preparation_words</th>\n",
       "      <th>cooking_time</th>\n",
       "    </tr>\n",
       "  </thead>\n",
       "  <tbody>\n",
       "    <tr>\n",
       "      <th>3782</th>\n",
       "      <td>5</td>\n",
       "      <td>40</td>\n",
       "      <td>45</td>\n",
       "    </tr>\n",
       "    <tr>\n",
       "      <th>3075</th>\n",
       "      <td>9</td>\n",
       "      <td>53</td>\n",
       "      <td>30</td>\n",
       "    </tr>\n",
       "    <tr>\n",
       "      <th>3896</th>\n",
       "      <td>7</td>\n",
       "      <td>98</td>\n",
       "      <td>45</td>\n",
       "    </tr>\n",
       "    <tr>\n",
       "      <th>1343</th>\n",
       "      <td>11</td>\n",
       "      <td>73</td>\n",
       "      <td>30</td>\n",
       "    </tr>\n",
       "    <tr>\n",
       "      <th>4088</th>\n",
       "      <td>10</td>\n",
       "      <td>164</td>\n",
       "      <td>45</td>\n",
       "    </tr>\n",
       "  </tbody>\n",
       "</table>\n",
       "</div>"
      ],
      "text/plain": [
       "      number_of_ingerdients  number_of_preparation_words  cooking_time\n",
       "3782                      5                           40            45\n",
       "3075                      9                           53            30\n",
       "3896                      7                           98            45\n",
       "1343                     11                           73            30\n",
       "4088                     10                          164            45"
      ]
     },
     "execution_count": 9,
     "metadata": {},
     "output_type": "execute_result"
    }
   ],
   "source": [
    "# 16\t150\t70\n",
    "x_train.head()"
   ]
  },
  {
   "cell_type": "code",
   "execution_count": 10,
   "metadata": {},
   "outputs": [
    {
     "name": "stdout",
     "output_type": "stream",
     "text": [
      "_________________________________________________________________\n",
      "Layer (type)                 Output Shape              Param #   \n",
      "=================================================================\n",
      "dense_1 (Dense)              (None, 10)                40        \n",
      "_________________________________________________________________\n",
      "dense_2 (Dense)              (None, 10)                110       \n",
      "_________________________________________________________________\n",
      "dense_3 (Dense)              (None, 5)                 55        \n",
      "_________________________________________________________________\n",
      "dense_4 (Dense)              (None, 1)                 6         \n",
      "=================================================================\n",
      "Total params: 211\n",
      "Trainable params: 211\n",
      "Non-trainable params: 0\n",
      "_________________________________________________________________\n",
      "None\n"
     ]
    }
   ],
   "source": [
    "print(model.summary())\n"
   ]
  },
  {
   "cell_type": "code",
   "execution_count": null,
   "metadata": {},
   "outputs": [],
   "source": []
  },
  {
   "cell_type": "code",
   "execution_count": 18,
   "metadata": {},
   "outputs": [],
   "source": [
    "y_pred = model.predict(x_test)\n",
    "y_pred= y_pred>0.5\n"
   ]
  },
  {
   "cell_type": "code",
   "execution_count": null,
   "metadata": {},
   "outputs": [],
   "source": []
  },
  {
   "cell_type": "code",
   "execution_count": 20,
   "metadata": {},
   "outputs": [
    {
     "data": {
      "text/plain": [
       "array([[False]])"
      ]
     },
     "execution_count": 20,
     "metadata": {},
     "output_type": "execute_result"
    }
   ],
   "source": [
    "# test is with one recipe\n",
    "from numpy import array\n",
    "data = array([11, 22,  55])\n",
    "data = data.reshape((3,1))\n",
    "data.shape\n",
    "\n",
    "y_pred= model.predict(np.array([[4, 22,  55]]))\n",
    "y_pred= y_pred>0.5\n",
    "y_pred"
   ]
  },
  {
   "cell_type": "code",
   "execution_count": 26,
   "metadata": {},
   "outputs": [],
   "source": [
    "\n",
    "import pickle\n",
    "\n",
    "# Dump the trained decision tree classifier with Pickle\n",
    "decision_tree_pkl_filename = 'MLP.pkl'\n",
    "# Open the file to save as pkl file\n",
    "decision_tree_model_pkl = open(decision_tree_pkl_filename, 'wb')\n",
    "pickle.dump(model, decision_tree_model_pkl)\n",
    "# Close the pickle instances\n",
    "decision_tree_model_pkl.close()"
   ]
  },
  {
   "cell_type": "code",
   "execution_count": 27,
   "metadata": {},
   "outputs": [],
   "source": [
    "model_pkl = open('MLP.pkl', 'rb')\n",
    "saved_model = pickle.load(model_pkl)"
   ]
  },
  {
   "cell_type": "code",
   "execution_count": null,
   "metadata": {},
   "outputs": [],
   "source": []
  },
  {
   "cell_type": "code",
   "execution_count": 28,
   "metadata": {},
   "outputs": [
    {
     "data": {
      "text/plain": [
       "array([[False]])"
      ]
     },
     "execution_count": 28,
     "metadata": {},
     "output_type": "execute_result"
    }
   ],
   "source": [
    "y_pred= saved_model.predict(np.array([[2, 2,  55]]))\n",
    "y_pred= y_pred>0.5\n",
    "y_pred"
   ]
  },
  {
   "cell_type": "code",
   "execution_count": null,
   "metadata": {},
   "outputs": [],
   "source": []
  }
 ],
 "metadata": {
  "kernelspec": {
   "display_name": "Python 3",
   "language": "python",
   "name": "python3"
  },
  "language_info": {
   "codemirror_mode": {
    "name": "ipython",
    "version": 3
   },
   "file_extension": ".py",
   "mimetype": "text/x-python",
   "name": "python",
   "nbconvert_exporter": "python",
   "pygments_lexer": "ipython3",
   "version": "3.6.6"
  }
 },
 "nbformat": 4,
 "nbformat_minor": 2
}
